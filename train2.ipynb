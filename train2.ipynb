{
 "cells": [
  {
   "cell_type": "code",
   "execution_count": 1,
   "metadata": {},
   "outputs": [
    {
     "data": {
      "text/plain": [
       "<AddedDllDirectory('C:/Program Files/NVIDIA GPU Computing Toolkit/CUDA/v11.6/bin')>"
      ]
     },
     "execution_count": 1,
     "metadata": {},
     "output_type": "execute_result"
    }
   ],
   "source": [
    "import pandas as pd\n",
    "import numpy as np\n",
    "import gensim\n",
    "import re\n",
    "import pickle\n",
    "from sklearn.model_selection import train_test_split\n",
    "from sklearn.svm import SVC\n",
    "from sklearn.ensemble import RandomForestClassifier\n",
    "import os\n",
    "os.add_dll_directory(\"C:/Program Files/NVIDIA GPU Computing Toolkit/CUDA/v11.6/bin\")"
   ]
  },
  {
   "cell_type": "code",
   "execution_count": 2,
   "metadata": {},
   "outputs": [],
   "source": [
    "#functions\n",
    "def cleanText(text):\n",
    "    cleaned = re.sub(\"[^a-zA-Z0-9']\", \" \", text)\n",
    "    cleaned = re.sub(\"^\\d+\\s|\\s\\d+\\s|\\s\\d+$\", \" \", text)\n",
    "    lowered = cleaned.lower()\n",
    "\n",
    "    return lowered.strip()\n",
    "\n",
    "def depunc(sentence):\n",
    "    sentence = sentence.lower()\n",
    "    for char in sentence:\n",
    "        if char not in \"abcdefghijklmnopqrstuvwxyz' \":\n",
    "            sentence = sentence.replace(char,'')\n",
    "    return sentence\n",
    "\n",
    "def extract_text(x, y):\n",
    "    y_out = []\n",
    "    x_out = []\n",
    "    wset = set()\n",
    "    for i in range(len(y)):\n",
    "        r = x[i]\n",
    "        r = depunc(r)\n",
    "        r = r.split()\n",
    "        wset.update(r)\n",
    "        x_out.append(r)\n",
    "        y_out.append(y[i])\n",
    "    return x_out, y_out, wset\n",
    "\n",
    "\n",
    "def vectorize(words, indexing):\n",
    "    all_matrix = []\n",
    "    for r in words:\n",
    "        matrix = [0] * len(indexing)\n",
    "        for w in r:\n",
    "            if w in indexing:\n",
    "                matrix[indexing[w]] += 1\n",
    "        all_matrix.append(matrix)\n",
    "    return all_matrix"
   ]
  },
  {
   "cell_type": "code",
   "execution_count": 3,
   "metadata": {},
   "outputs": [
    {
     "name": "stdout",
     "output_type": "stream",
     "text": [
      "97 NaN columns dropped.\n"
     ]
    }
   ],
   "source": [
    "#prepreprocessing\n",
    "with open(\"./data/data.csv\", \"r+\", errors = 'ignore') as f:\n",
    "    df = pd.read_csv(f, delimiter = \",\")\n",
    "\n",
    "print(df['gender'].isnull().sum(), \"NaN columns dropped.\")\n",
    "df = df.dropna()"
   ]
  },
  {
   "cell_type": "code",
   "execution_count": 4,
   "metadata": {},
   "outputs": [],
   "source": [
    "X, y = np.asarray(df[\"text\"]), np.asarray(df[\"gender\"])\n",
    "X, y, wset = extract_text(X, y)\n",
    "indexing = {idx:word for idx, word in enumerate(wset)}"
   ]
  },
  {
   "cell_type": "code",
   "execution_count": 5,
   "metadata": {},
   "outputs": [],
   "source": [
    "#man, what a horribly inefficient function\n",
    "X = vectorize(X, indexing)\n",
    "X_train, X_test, y_train, y_test = train_test_split(X, y, test_size = 0.30, random_state = 0)"
   ]
  },
  {
   "cell_type": "code",
   "execution_count": 6,
   "metadata": {},
   "outputs": [
    {
     "name": "stdout",
     "output_type": "stream",
     "text": [
      "training...\n"
     ]
    }
   ],
   "source": [
    "print(\"training...\")\n",
    "svm_classifier = SVC()\n",
    "svm_classifier.fit(X_train, y_train)\n",
    "print(svm_classifier.score(X_test, y_test))\n",
    "\n",
    "rf = RandomForestClassifier(verbose = True)\n",
    "print(\"training...\")\n",
    "rf.fit(X_train, y_train)  \n",
    "print(\"predict!\")\n",
    "y_pred = rf.predict(X_test)\n",
    "#cm = confusion_matrix(y_test, y_pred)\n",
    "print(\"Accuracy:\", accuracy_score(y_test, y_pred))"
   ]
  },
  {
   "cell_type": "code",
   "execution_count": null,
   "metadata": {},
   "outputs": [],
   "source": [
    "with open(\"./models/model_svc\", \"wb\") as f:\n",
    "    pickle.dump(svm_classifier, f)\n",
    "\n",
    "with open(\"./models/model_rfc\", \"wb\") as f:\n",
    "    pickle.dump(rf, f)"
   ]
  }
 ],
 "metadata": {
  "interpreter": {
   "hash": "f3d7d1fd12d59eaed2d1f395108647e967725d729052173b9b48a3f1438a28ad"
  },
  "kernelspec": {
   "display_name": "Python 3.9.12 64-bit (windows store)",
   "language": "python",
   "name": "python3"
  },
  "language_info": {
   "codemirror_mode": {
    "name": "ipython",
    "version": 3
   },
   "file_extension": ".py",
   "mimetype": "text/x-python",
   "name": "python",
   "nbconvert_exporter": "python",
   "pygments_lexer": "ipython3",
   "version": "3.9.12"
  },
  "orig_nbformat": 4
 },
 "nbformat": 4,
 "nbformat_minor": 2
}
