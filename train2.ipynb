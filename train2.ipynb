{
 "cells": [
  {
   "cell_type": "code",
   "execution_count": 2,
   "metadata": {},
   "outputs": [
    {
     "data": {
      "text/plain": [
       "<AddedDllDirectory('C:/Program Files/NVIDIA GPU Computing Toolkit/CUDA/v11.6/bin')>"
      ]
     },
     "execution_count": 2,
     "metadata": {},
     "output_type": "execute_result"
    }
   ],
   "source": [
    "import pandas as pd\n",
    "import numpy as np\n",
    "import gensim\n",
    "import re\n",
    "import pickle\n",
    "from sklearn.model_selection import train_test_split\n",
    "from sklearn.svm import SVC\n",
    "from sklearn.ensemble import RandomForestClassifier\n",
    "from sklearn.metrics import confusion_matrix, accuracy_score\n",
    "import tensorflow as tf\n",
    "from keras import layers\n",
    "import os\n",
    "os.add_dll_directory(\"C:/Program Files/NVIDIA GPU Computing Toolkit/CUDA/v11.6/bin\")"
   ]
  },
  {
   "cell_type": "code",
   "execution_count": 3,
   "metadata": {},
   "outputs": [],
   "source": [
    "#functions\n",
    "def cleanText(text):\n",
    "    cleaned = re.sub(\"[^a-zA-Z0-9']\", \" \", text)\n",
    "    cleaned = re.sub(\"^\\d+\\s|\\s\\d+\\s|\\s\\d+$\", \" \", text)\n",
    "    lowered = cleaned.lower()\n",
    "\n",
    "    return lowered.strip()\n",
    "\n",
    "def depunc(sentence):\n",
    "    sentence = sentence.lower()\n",
    "    for char in sentence:\n",
    "        if char not in \"abcdefghijklmnopqrstuvwxyz' \":\n",
    "            sentence = sentence.replace(char,'')\n",
    "    return sentence\n",
    "\n",
    "def extract_text(x, y):\n",
    "    y_out = []\n",
    "    x_out = []\n",
    "    wset = set()\n",
    "    for i in range(len(y)):\n",
    "        r = x[i]\n",
    "        r = depunc(r)\n",
    "        r = r.split()\n",
    "        wset.update(r)\n",
    "        x_out.append(r)\n",
    "        y_out.append(y[i])\n",
    "    return x_out, y_out, wset\n",
    "\n",
    "\n",
    "def vectorize(words, indexing):\n",
    "    all_matrix = []\n",
    "    for r in words:\n",
    "        matrix = [0] * len(indexing)\n",
    "        for w in r:\n",
    "            if w in indexing:\n",
    "                matrix[indexing[w]] += 1\n",
    "        all_matrix.append(matrix)\n",
    "    return all_matrix"
   ]
  },
  {
   "cell_type": "code",
   "execution_count": 4,
   "metadata": {},
   "outputs": [
    {
     "name": "stdout",
     "output_type": "stream",
     "text": [
      "97 NaN columns dropped.\n"
     ]
    }
   ],
   "source": [
    "#prepreprocessing\n",
    "with open(\"./data/data.csv\", \"r+\", errors = 'ignore') as f:\n",
    "    df = pd.read_csv(f, delimiter = \",\")\n",
    "\n",
    "print(df['gender'].isnull().sum(), \"NaN columns dropped.\")\n",
    "df = df.dropna()"
   ]
  },
  {
   "cell_type": "code",
   "execution_count": 5,
   "metadata": {},
   "outputs": [
    {
     "name": "stdout",
     "output_type": "stream",
     "text": [
      "number of examples: 16224\n"
     ]
    }
   ],
   "source": [
    "X, y = np.asarray(df[\"text\"]), np.asarray(df[\"gender\"])\n",
    "X, y, wset = extract_text(X, y)\n",
    "indexing = {word:idx for idx, word in enumerate(wset)}\n",
    "indexinginv = {idx:word for idx, word in enumerate(wset)}\n",
    "print(\"number of examples:\",len(X))"
   ]
  },
  {
   "cell_type": "code",
   "execution_count": 6,
   "metadata": {},
   "outputs": [],
   "source": [
    "#man, what a horribly inefficient function\n",
    "X = vectorize(X, indexing)\n",
    "for i in range(len(y)):\n",
    "    if y[i] == \"male\":\n",
    "        y[i] = 0\n",
    "    elif y[i] == \"female\":\n",
    "        y[i] = 1\n",
    "    else:\n",
    "        y[i] = 2\n",
    "X_train, X_test, y_train, y_test = train_test_split(X, y, test_size = 0.30, random_state = 0)\n"
   ]
  },
  {
   "cell_type": "code",
   "execution_count": 7,
   "metadata": {},
   "outputs": [
    {
     "name": "stdout",
     "output_type": "stream",
     "text": [
      "training...\n"
     ]
    },
    {
     "name": "stderr",
     "output_type": "stream",
     "text": [
      "[Parallel(n_jobs=1)]: Using backend SequentialBackend with 1 concurrent workers.\n",
      "[Parallel(n_jobs=1)]: Done 100 out of 100 | elapsed: 12.2min finished\n"
     ]
    },
    {
     "name": "stdout",
     "output_type": "stream",
     "text": [
      "predict!\n"
     ]
    },
    {
     "name": "stderr",
     "output_type": "stream",
     "text": [
      "[Parallel(n_jobs=1)]: Using backend SequentialBackend with 1 concurrent workers.\n"
     ]
    },
    {
     "name": "stdout",
     "output_type": "stream",
     "text": [
      "Accuracy: 0.4884963023829088\n"
     ]
    },
    {
     "name": "stderr",
     "output_type": "stream",
     "text": [
      "[Parallel(n_jobs=1)]: Done 100 out of 100 | elapsed:    2.5s finished\n"
     ]
    }
   ],
   "source": [
    "rf = RandomForestClassifier(verbose = True)\n",
    "print(\"training...\")\n",
    "rf.fit(X_train, y_train)  \n",
    "print(\"predict!\")\n",
    "y_pred = rf.predict(X_test)\n",
    "#cm = confusion_matrix(y_test, y_pred)\n",
    "print(\"Accuracy:\", accuracy_score(y_test, y_pred))"
   ]
  },
  {
   "cell_type": "code",
   "execution_count": 8,
   "metadata": {},
   "outputs": [],
   "source": [
    "with open(\"./models/model_rfc\", \"wb\") as f:\n",
    "    pickle.dump(rf, f)"
   ]
  }
 ],
 "metadata": {
  "interpreter": {
   "hash": "f3d7d1fd12d59eaed2d1f395108647e967725d729052173b9b48a3f1438a28ad"
  },
  "kernelspec": {
   "display_name": "Python 3.9.12 64-bit (windows store)",
   "language": "python",
   "name": "python3"
  },
  "language_info": {
   "codemirror_mode": {
    "name": "ipython",
    "version": 3
   },
   "file_extension": ".py",
   "mimetype": "text/x-python",
   "name": "python",
   "nbconvert_exporter": "python",
   "pygments_lexer": "ipython3",
   "version": "3.9.12"
  },
  "orig_nbformat": 4
 },
 "nbformat": 4,
 "nbformat_minor": 2
}
